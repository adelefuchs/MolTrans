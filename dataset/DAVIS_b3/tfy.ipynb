{
 "cells": [
  {
   "cell_type": "code",
   "execution_count": 4,
   "metadata": {},
   "outputs": [
    {
     "name": "stdout",
     "output_type": "stream",
     "text": [
      "Proteins in other20 make up 16.36% of the combined train and test datasets.\n"
     ]
    }
   ],
   "source": [
    "import pandas as pd\n",
    "train_df = pd.read_csv(\"train.csv\")\n",
    "test_df = pd.read_csv(\"val.csv\")\n",
    "\n",
    "other20 = pd.read_csv(\"test.csv\")\n",
    "\n",
    "train_proteins = set(train_df[\"Target Sequence\"])\n",
    "test_proteins = set(test_df[\"Target Sequence\"])\n",
    "other20_proteins = set(other20[\"Target Sequence\"])\n",
    "\n",
    "all_proteins = train_proteins.union(test_proteins).union(other20_proteins)\n",
    "\n",
    "# Find intersection with other20 proteins\n",
    "overlapping_proteins = other20_proteins.intersection(all_proteins)\n",
    "\n",
    "# Calculate percentage\n",
    "percentage = (len(overlapping_proteins) / len(all_proteins)) * 100\n",
    "\n",
    "print(f\"Proteins in other20 make up {percentage:.2f}% of the combined train and test datasets.\")\n"
   ]
  }
 ],
 "metadata": {
  "kernelspec": {
   "display_name": "Python 3",
   "language": "python",
   "name": "python3"
  },
  "language_info": {
   "codemirror_mode": {
    "name": "ipython",
    "version": 3
   },
   "file_extension": ".py",
   "mimetype": "text/x-python",
   "name": "python",
   "nbconvert_exporter": "python",
   "pygments_lexer": "ipython3",
   "version": "3.7.2"
  }
 },
 "nbformat": 4,
 "nbformat_minor": 2
}
